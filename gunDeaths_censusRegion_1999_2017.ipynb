{
 "cells": [
  {
   "cell_type": "code",
   "execution_count": 1,
   "metadata": {},
   "outputs": [],
   "source": [
    "import pandas as pd\n",
    "import matplotlib.pyplot as plt\n",
    "import seaborn as sns\n",
    "plt.style.use('seaborn-darkgrid')"
   ]
  },
  {
   "cell_type": "markdown",
   "metadata": {},
   "source": [
    "The data shows the annual crude rate (per 100,000) of combined homicides and suicides by firearm for the US's four census regions from 1999-2017."
   ]
  },
  {
   "cell_type": "code",
   "execution_count": 2,
   "metadata": {},
   "outputs": [],
   "source": [
    "data = pd.read_csv('Underlying Cause of Death, 1999-2017.txt', sep=\"\\t\", skipinitialspace=True, error_bad_lines=False)"
   ]
  },
  {
   "cell_type": "markdown",
   "metadata": {},
   "source": [
    "See the first few rows of the data"
   ]
  },
  {
   "cell_type": "code",
   "execution_count": 3,
   "metadata": {},
   "outputs": [
    {
     "data": {
      "text/html": [
       "<div>\n",
       "<style scoped>\n",
       "    .dataframe tbody tr th:only-of-type {\n",
       "        vertical-align: middle;\n",
       "    }\n",
       "\n",
       "    .dataframe tbody tr th {\n",
       "        vertical-align: top;\n",
       "    }\n",
       "\n",
       "    .dataframe thead th {\n",
       "        text-align: right;\n",
       "    }\n",
       "</style>\n",
       "<table border=\"1\" class=\"dataframe\">\n",
       "  <thead>\n",
       "    <tr style=\"text-align: right;\">\n",
       "      <th></th>\n",
       "      <th>Notes</th>\n",
       "      <th>Census Region</th>\n",
       "      <th>Census Region Code</th>\n",
       "      <th>Year</th>\n",
       "      <th>Year Code</th>\n",
       "      <th>Deaths</th>\n",
       "      <th>Population</th>\n",
       "      <th>Crude Rate</th>\n",
       "    </tr>\n",
       "  </thead>\n",
       "  <tbody>\n",
       "    <tr>\n",
       "      <th>0</th>\n",
       "      <td>NaN</td>\n",
       "      <td>Census Region 1: Northeast</td>\n",
       "      <td>CENS-R1</td>\n",
       "      <td>1999.0</td>\n",
       "      <td>1999.0</td>\n",
       "      <td>3135.0</td>\n",
       "      <td>53343775.0</td>\n",
       "      <td>5.9</td>\n",
       "    </tr>\n",
       "    <tr>\n",
       "      <th>1</th>\n",
       "      <td>NaN</td>\n",
       "      <td>Census Region 1: Northeast</td>\n",
       "      <td>CENS-R1</td>\n",
       "      <td>2000.0</td>\n",
       "      <td>2000.0</td>\n",
       "      <td>3208.0</td>\n",
       "      <td>53594378.0</td>\n",
       "      <td>6.0</td>\n",
       "    </tr>\n",
       "    <tr>\n",
       "      <th>2</th>\n",
       "      <td>NaN</td>\n",
       "      <td>Census Region 1: Northeast</td>\n",
       "      <td>CENS-R1</td>\n",
       "      <td>2001.0</td>\n",
       "      <td>2001.0</td>\n",
       "      <td>3165.0</td>\n",
       "      <td>53915522.0</td>\n",
       "      <td>5.9</td>\n",
       "    </tr>\n",
       "    <tr>\n",
       "      <th>3</th>\n",
       "      <td>NaN</td>\n",
       "      <td>Census Region 1: Northeast</td>\n",
       "      <td>CENS-R1</td>\n",
       "      <td>2002.0</td>\n",
       "      <td>2002.0</td>\n",
       "      <td>3126.0</td>\n",
       "      <td>54143915.0</td>\n",
       "      <td>5.8</td>\n",
       "    </tr>\n",
       "    <tr>\n",
       "      <th>4</th>\n",
       "      <td>NaN</td>\n",
       "      <td>Census Region 1: Northeast</td>\n",
       "      <td>CENS-R1</td>\n",
       "      <td>2003.0</td>\n",
       "      <td>2003.0</td>\n",
       "      <td>3215.0</td>\n",
       "      <td>54334453.0</td>\n",
       "      <td>5.9</td>\n",
       "    </tr>\n",
       "  </tbody>\n",
       "</table>\n",
       "</div>"
      ],
      "text/plain": [
       "  Notes               Census Region Census Region Code    Year  Year Code  \\\n",
       "0   NaN  Census Region 1: Northeast            CENS-R1  1999.0     1999.0   \n",
       "1   NaN  Census Region 1: Northeast            CENS-R1  2000.0     2000.0   \n",
       "2   NaN  Census Region 1: Northeast            CENS-R1  2001.0     2001.0   \n",
       "3   NaN  Census Region 1: Northeast            CENS-R1  2002.0     2002.0   \n",
       "4   NaN  Census Region 1: Northeast            CENS-R1  2003.0     2003.0   \n",
       "\n",
       "   Deaths  Population  Crude Rate  \n",
       "0  3135.0  53343775.0         5.9  \n",
       "1  3208.0  53594378.0         6.0  \n",
       "2  3165.0  53915522.0         5.9  \n",
       "3  3126.0  54143915.0         5.8  \n",
       "4  3215.0  54334453.0         5.9  "
      ]
     },
     "execution_count": 3,
     "metadata": {},
     "output_type": "execute_result"
    }
   ],
   "source": [
    "data.head()"
   ]
  },
  {
   "cell_type": "markdown",
   "metadata": {},
   "source": [
    "See the different census regions"
   ]
  },
  {
   "cell_type": "code",
   "execution_count": 4,
   "metadata": {},
   "outputs": [
    {
     "data": {
      "text/plain": [
       "{'Census Region 1: Northeast',\n",
       " 'Census Region 2: Midwest',\n",
       " 'Census Region 3: South',\n",
       " 'Census Region 4: West',\n",
       " nan}"
      ]
     },
     "execution_count": 4,
     "metadata": {},
     "output_type": "execute_result"
    }
   ],
   "source": [
    "set(data['Census Region'])"
   ]
  },
  {
   "cell_type": "markdown",
   "metadata": {},
   "source": [
    "Subset the data by census regiono"
   ]
  },
  {
   "cell_type": "code",
   "execution_count": 5,
   "metadata": {},
   "outputs": [],
   "source": [
    "cr1 = data[data['Census Region']=='Census Region 1: Northeast'].reset_index(drop=True)\n",
    "cr2 = data[data['Census Region']=='Census Region 2: Midwest'].reset_index(drop=True)\n",
    "cr3 = data[data['Census Region']=='Census Region 3: South'].reset_index(drop=True)\n",
    "cr4 = data[data['Census Region']=='Census Region 4: West'].reset_index(drop=True)"
   ]
  },
  {
   "cell_type": "markdown",
   "metadata": {},
   "source": [
    "Display one of these census region datasets"
   ]
  },
  {
   "cell_type": "code",
   "execution_count": 6,
   "metadata": {},
   "outputs": [
    {
     "data": {
      "text/html": [
       "<div>\n",
       "<style scoped>\n",
       "    .dataframe tbody tr th:only-of-type {\n",
       "        vertical-align: middle;\n",
       "    }\n",
       "\n",
       "    .dataframe tbody tr th {\n",
       "        vertical-align: top;\n",
       "    }\n",
       "\n",
       "    .dataframe thead th {\n",
       "        text-align: right;\n",
       "    }\n",
       "</style>\n",
       "<table border=\"1\" class=\"dataframe\">\n",
       "  <thead>\n",
       "    <tr style=\"text-align: right;\">\n",
       "      <th></th>\n",
       "      <th>Notes</th>\n",
       "      <th>Census Region</th>\n",
       "      <th>Census Region Code</th>\n",
       "      <th>Year</th>\n",
       "      <th>Year Code</th>\n",
       "      <th>Deaths</th>\n",
       "      <th>Population</th>\n",
       "      <th>Crude Rate</th>\n",
       "    </tr>\n",
       "  </thead>\n",
       "  <tbody>\n",
       "    <tr>\n",
       "      <th>0</th>\n",
       "      <td>NaN</td>\n",
       "      <td>Census Region 1: Northeast</td>\n",
       "      <td>CENS-R1</td>\n",
       "      <td>1999.0</td>\n",
       "      <td>1999.0</td>\n",
       "      <td>3135.0</td>\n",
       "      <td>5.334378e+07</td>\n",
       "      <td>5.9</td>\n",
       "    </tr>\n",
       "    <tr>\n",
       "      <th>1</th>\n",
       "      <td>NaN</td>\n",
       "      <td>Census Region 1: Northeast</td>\n",
       "      <td>CENS-R1</td>\n",
       "      <td>2000.0</td>\n",
       "      <td>2000.0</td>\n",
       "      <td>3208.0</td>\n",
       "      <td>5.359438e+07</td>\n",
       "      <td>6.0</td>\n",
       "    </tr>\n",
       "    <tr>\n",
       "      <th>2</th>\n",
       "      <td>NaN</td>\n",
       "      <td>Census Region 1: Northeast</td>\n",
       "      <td>CENS-R1</td>\n",
       "      <td>2001.0</td>\n",
       "      <td>2001.0</td>\n",
       "      <td>3165.0</td>\n",
       "      <td>5.391552e+07</td>\n",
       "      <td>5.9</td>\n",
       "    </tr>\n",
       "    <tr>\n",
       "      <th>3</th>\n",
       "      <td>NaN</td>\n",
       "      <td>Census Region 1: Northeast</td>\n",
       "      <td>CENS-R1</td>\n",
       "      <td>2002.0</td>\n",
       "      <td>2002.0</td>\n",
       "      <td>3126.0</td>\n",
       "      <td>5.414392e+07</td>\n",
       "      <td>5.8</td>\n",
       "    </tr>\n",
       "    <tr>\n",
       "      <th>4</th>\n",
       "      <td>NaN</td>\n",
       "      <td>Census Region 1: Northeast</td>\n",
       "      <td>CENS-R1</td>\n",
       "      <td>2003.0</td>\n",
       "      <td>2003.0</td>\n",
       "      <td>3215.0</td>\n",
       "      <td>5.433445e+07</td>\n",
       "      <td>5.9</td>\n",
       "    </tr>\n",
       "    <tr>\n",
       "      <th>5</th>\n",
       "      <td>NaN</td>\n",
       "      <td>Census Region 1: Northeast</td>\n",
       "      <td>CENS-R1</td>\n",
       "      <td>2004.0</td>\n",
       "      <td>2004.0</td>\n",
       "      <td>3225.0</td>\n",
       "      <td>5.442353e+07</td>\n",
       "      <td>5.9</td>\n",
       "    </tr>\n",
       "    <tr>\n",
       "      <th>6</th>\n",
       "      <td>NaN</td>\n",
       "      <td>Census Region 1: Northeast</td>\n",
       "      <td>CENS-R1</td>\n",
       "      <td>2005.0</td>\n",
       "      <td>2005.0</td>\n",
       "      <td>3371.0</td>\n",
       "      <td>5.445123e+07</td>\n",
       "      <td>6.2</td>\n",
       "    </tr>\n",
       "    <tr>\n",
       "      <th>7</th>\n",
       "      <td>NaN</td>\n",
       "      <td>Census Region 1: Northeast</td>\n",
       "      <td>CENS-R1</td>\n",
       "      <td>2006.0</td>\n",
       "      <td>2006.0</td>\n",
       "      <td>3440.0</td>\n",
       "      <td>5.452266e+07</td>\n",
       "      <td>6.3</td>\n",
       "    </tr>\n",
       "    <tr>\n",
       "      <th>8</th>\n",
       "      <td>NaN</td>\n",
       "      <td>Census Region 1: Northeast</td>\n",
       "      <td>CENS-R1</td>\n",
       "      <td>2007.0</td>\n",
       "      <td>2007.0</td>\n",
       "      <td>3322.0</td>\n",
       "      <td>5.465336e+07</td>\n",
       "      <td>6.1</td>\n",
       "    </tr>\n",
       "    <tr>\n",
       "      <th>9</th>\n",
       "      <td>NaN</td>\n",
       "      <td>Census Region 1: Northeast</td>\n",
       "      <td>CENS-R1</td>\n",
       "      <td>2008.0</td>\n",
       "      <td>2008.0</td>\n",
       "      <td>3362.0</td>\n",
       "      <td>5.487593e+07</td>\n",
       "      <td>6.1</td>\n",
       "    </tr>\n",
       "    <tr>\n",
       "      <th>10</th>\n",
       "      <td>NaN</td>\n",
       "      <td>Census Region 1: Northeast</td>\n",
       "      <td>CENS-R1</td>\n",
       "      <td>2009.0</td>\n",
       "      <td>2009.0</td>\n",
       "      <td>3329.0</td>\n",
       "      <td>5.513310e+07</td>\n",
       "      <td>6.0</td>\n",
       "    </tr>\n",
       "    <tr>\n",
       "      <th>11</th>\n",
       "      <td>NaN</td>\n",
       "      <td>Census Region 1: Northeast</td>\n",
       "      <td>CENS-R1</td>\n",
       "      <td>2010.0</td>\n",
       "      <td>2010.0</td>\n",
       "      <td>3501.0</td>\n",
       "      <td>5.531724e+07</td>\n",
       "      <td>6.3</td>\n",
       "    </tr>\n",
       "    <tr>\n",
       "      <th>12</th>\n",
       "      <td>NaN</td>\n",
       "      <td>Census Region 1: Northeast</td>\n",
       "      <td>CENS-R1</td>\n",
       "      <td>2011.0</td>\n",
       "      <td>2011.0</td>\n",
       "      <td>3608.0</td>\n",
       "      <td>5.552160e+07</td>\n",
       "      <td>6.5</td>\n",
       "    </tr>\n",
       "    <tr>\n",
       "      <th>13</th>\n",
       "      <td>NaN</td>\n",
       "      <td>Census Region 1: Northeast</td>\n",
       "      <td>CENS-R1</td>\n",
       "      <td>2012.0</td>\n",
       "      <td>2012.0</td>\n",
       "      <td>3535.0</td>\n",
       "      <td>5.576109e+07</td>\n",
       "      <td>6.3</td>\n",
       "    </tr>\n",
       "    <tr>\n",
       "      <th>14</th>\n",
       "      <td>NaN</td>\n",
       "      <td>Census Region 1: Northeast</td>\n",
       "      <td>CENS-R1</td>\n",
       "      <td>2013.0</td>\n",
       "      <td>2013.0</td>\n",
       "      <td>3448.0</td>\n",
       "      <td>5.594307e+07</td>\n",
       "      <td>6.2</td>\n",
       "    </tr>\n",
       "    <tr>\n",
       "      <th>15</th>\n",
       "      <td>NaN</td>\n",
       "      <td>Census Region 1: Northeast</td>\n",
       "      <td>CENS-R1</td>\n",
       "      <td>2014.0</td>\n",
       "      <td>2014.0</td>\n",
       "      <td>3414.0</td>\n",
       "      <td>5.615233e+07</td>\n",
       "      <td>6.1</td>\n",
       "    </tr>\n",
       "    <tr>\n",
       "      <th>16</th>\n",
       "      <td>NaN</td>\n",
       "      <td>Census Region 1: Northeast</td>\n",
       "      <td>CENS-R1</td>\n",
       "      <td>2015.0</td>\n",
       "      <td>2015.0</td>\n",
       "      <td>3514.0</td>\n",
       "      <td>5.628389e+07</td>\n",
       "      <td>6.2</td>\n",
       "    </tr>\n",
       "    <tr>\n",
       "      <th>17</th>\n",
       "      <td>NaN</td>\n",
       "      <td>Census Region 1: Northeast</td>\n",
       "      <td>CENS-R1</td>\n",
       "      <td>2016.0</td>\n",
       "      <td>2016.0</td>\n",
       "      <td>3634.0</td>\n",
       "      <td>5.620951e+07</td>\n",
       "      <td>6.5</td>\n",
       "    </tr>\n",
       "    <tr>\n",
       "      <th>18</th>\n",
       "      <td>NaN</td>\n",
       "      <td>Census Region 1: Northeast</td>\n",
       "      <td>CENS-R1</td>\n",
       "      <td>2017.0</td>\n",
       "      <td>2017.0</td>\n",
       "      <td>3656.0</td>\n",
       "      <td>5.647058e+07</td>\n",
       "      <td>6.5</td>\n",
       "    </tr>\n",
       "    <tr>\n",
       "      <th>19</th>\n",
       "      <td>Total</td>\n",
       "      <td>Census Region 1: Northeast</td>\n",
       "      <td>CENS-R1</td>\n",
       "      <td>NaN</td>\n",
       "      <td>NaN</td>\n",
       "      <td>64208.0</td>\n",
       "      <td>1.045051e+09</td>\n",
       "      <td>6.1</td>\n",
       "    </tr>\n",
       "  </tbody>\n",
       "</table>\n",
       "</div>"
      ],
      "text/plain": [
       "    Notes               Census Region Census Region Code    Year  Year Code  \\\n",
       "0     NaN  Census Region 1: Northeast            CENS-R1  1999.0     1999.0   \n",
       "1     NaN  Census Region 1: Northeast            CENS-R1  2000.0     2000.0   \n",
       "2     NaN  Census Region 1: Northeast            CENS-R1  2001.0     2001.0   \n",
       "3     NaN  Census Region 1: Northeast            CENS-R1  2002.0     2002.0   \n",
       "4     NaN  Census Region 1: Northeast            CENS-R1  2003.0     2003.0   \n",
       "5     NaN  Census Region 1: Northeast            CENS-R1  2004.0     2004.0   \n",
       "6     NaN  Census Region 1: Northeast            CENS-R1  2005.0     2005.0   \n",
       "7     NaN  Census Region 1: Northeast            CENS-R1  2006.0     2006.0   \n",
       "8     NaN  Census Region 1: Northeast            CENS-R1  2007.0     2007.0   \n",
       "9     NaN  Census Region 1: Northeast            CENS-R1  2008.0     2008.0   \n",
       "10    NaN  Census Region 1: Northeast            CENS-R1  2009.0     2009.0   \n",
       "11    NaN  Census Region 1: Northeast            CENS-R1  2010.0     2010.0   \n",
       "12    NaN  Census Region 1: Northeast            CENS-R1  2011.0     2011.0   \n",
       "13    NaN  Census Region 1: Northeast            CENS-R1  2012.0     2012.0   \n",
       "14    NaN  Census Region 1: Northeast            CENS-R1  2013.0     2013.0   \n",
       "15    NaN  Census Region 1: Northeast            CENS-R1  2014.0     2014.0   \n",
       "16    NaN  Census Region 1: Northeast            CENS-R1  2015.0     2015.0   \n",
       "17    NaN  Census Region 1: Northeast            CENS-R1  2016.0     2016.0   \n",
       "18    NaN  Census Region 1: Northeast            CENS-R1  2017.0     2017.0   \n",
       "19  Total  Census Region 1: Northeast            CENS-R1     NaN        NaN   \n",
       "\n",
       "     Deaths    Population  Crude Rate  \n",
       "0    3135.0  5.334378e+07         5.9  \n",
       "1    3208.0  5.359438e+07         6.0  \n",
       "2    3165.0  5.391552e+07         5.9  \n",
       "3    3126.0  5.414392e+07         5.8  \n",
       "4    3215.0  5.433445e+07         5.9  \n",
       "5    3225.0  5.442353e+07         5.9  \n",
       "6    3371.0  5.445123e+07         6.2  \n",
       "7    3440.0  5.452266e+07         6.3  \n",
       "8    3322.0  5.465336e+07         6.1  \n",
       "9    3362.0  5.487593e+07         6.1  \n",
       "10   3329.0  5.513310e+07         6.0  \n",
       "11   3501.0  5.531724e+07         6.3  \n",
       "12   3608.0  5.552160e+07         6.5  \n",
       "13   3535.0  5.576109e+07         6.3  \n",
       "14   3448.0  5.594307e+07         6.2  \n",
       "15   3414.0  5.615233e+07         6.1  \n",
       "16   3514.0  5.628389e+07         6.2  \n",
       "17   3634.0  5.620951e+07         6.5  \n",
       "18   3656.0  5.647058e+07         6.5  \n",
       "19  64208.0  1.045051e+09         6.1  "
      ]
     },
     "execution_count": 6,
     "metadata": {},
     "output_type": "execute_result"
    }
   ],
   "source": [
    "cr1"
   ]
  },
  {
   "cell_type": "markdown",
   "metadata": {},
   "source": [
    "The last row shows the total crude rate. We will omit this by indexing our data to the -1th row (this omits the last row)"
   ]
  },
  {
   "cell_type": "code",
   "execution_count": 7,
   "metadata": {},
   "outputs": [],
   "source": [
    "cr_list = [cr1, cr2, cr3, cr4]\n",
    "titles = ['Census Region 1: Northeast', 'Census Region 2: Midwest', 'Census Region 3: South', 'Census Region 4: West']"
   ]
  },
  {
   "cell_type": "code",
   "execution_count": 8,
   "metadata": {},
   "outputs": [
    {
     "data": {
      "image/png": "[encoded data removed]",
      "text/plain": [
       "<Figure size 432x288 with 1 Axes>"
      ]
     },
     "metadata": {
      "needs_background": "light"
     },
     "output_type": "display_data"
    },
    {
     "data": {
      "image/png": "[encoded data removed]",
      "text/plain": [
       "<Figure size 432x288 with 1 Axes>"
      ]
     },
     "metadata": {
      "needs_background": "light"
     },
     "output_type": "display_data"
    },
    {
     "data": {
      "image/png": "[encoded data removed]",
      "text/plain": [
       "<Figure size 432x288 with 1 Axes>"
      ]
     },
     "metadata": {
      "needs_background": "light"
     },
     "output_type": "display_data"
    },
    {
     "data": {
      "image/png": "[encoded data removed]",
      "text/plain": [
       "<Figure size 432x288 with 1 Axes>"
      ]
     },
     "metadata": {
      "needs_background": "light"
     },
     "output_type": "display_data"
    },
    {
     "data": {
      "text/plain": [
       "<Figure size 432x288 with 0 Axes>"
      ]
     },
     "metadata": {},
     "output_type": "display_data"
    }
   ],
   "source": [
    "c=0\n",
    "for df in cr_list:\n",
    "    sns.lineplot(range(1999, 2018, 1), df['Crude Rate'][:-1])\n",
    "    plt.ylabel('Deaths per 100,000')\n",
    "    plt.xlabel('Year')\n",
    "    plt.xticks(range(1999, 2018, 1), range(1999, 2018, 1), rotation=90);\n",
    "    plt.title(titles[c])\n",
    "    \n",
    "    for i, txt in enumerate(range(1999, 2018, 1)):\n",
    "        plt.annotate(df['Crude Rate'][i], (range(1999, 2018, 1)[i], df['Crude Rate'][i]))\n",
    "    \n",
    "    plt.show()\n",
    "    plt.gcf().clear()\n",
    "    c+=1\n"
   ]
  }
 ],
 "metadata": {
  "kernelspec": {
   "display_name": "Python 3",
   "language": "python",
   "name": "python3"
  },
  "language_info": {
   "codemirror_mode": {
    "name": "ipython",
    "version": 3
   },
   "file_extension": ".py",
   "mimetype": "text/x-python",
   "name": "python",
   "nbconvert_exporter": "python",
   "pygments_lexer": "ipython3",
   "version": "3.7.0"
  }
 },
 "nbformat": 4,
 "nbformat_minor": 2
}
